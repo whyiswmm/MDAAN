{
 "cells": [
  {
   "cell_type": "code",
   "execution_count": 1,
   "metadata": {},
   "outputs": [
    {
     "name": "stdout",
     "output_type": "stream",
     "text": [
      "(20, 3, 90, 90)\n",
      "(20,)\n",
      "(20, 3, 90, 90)\n",
      "(20,)\n",
      "(20, 3, 90, 90)\n",
      "(20,)\n",
      "(20, 3, 90, 90)\n",
      "(20,)\n",
      "(20, 3, 90, 90)\n",
      "(20,)\n"
     ]
    }
   ],
   "source": [
    "import numpy as np\n",
    "import os\n",
    "\n",
    "folder_path = '.'  # 替换为你的文件夹路径\n",
    "\n",
    "# 获取文件夹中所有.npy文件的列表\n",
    "file_list = [file for file in os.listdir(folder_path) if file.endswith('.npy')]\n",
    "\n",
    "# 逐个读取.npy文件并保留前20条数据，并保存回原文件\n",
    "for file_name in file_list:\n",
    "    file_path = os.path.join(folder_path, file_name)\n",
    "    data = np.load(file_path)\n",
    "    print(data.shape)\n"
   ]
  },
  {
   "cell_type": "code",
   "execution_count": null,
   "metadata": {},
   "outputs": [],
   "source": []
  }
 ],
 "metadata": {
  "kernelspec": {
   "display_name": "base",
   "language": "python",
   "name": "python3"
  },
  "language_info": {
   "codemirror_mode": {
    "name": "ipython",
    "version": 3
   },
   "file_extension": ".py",
   "mimetype": "text/x-python",
   "name": "python",
   "nbconvert_exporter": "python",
   "pygments_lexer": "ipython3",
   "version": "3.9.15"
  },
  "orig_nbformat": 4
 },
 "nbformat": 4,
 "nbformat_minor": 2
}
